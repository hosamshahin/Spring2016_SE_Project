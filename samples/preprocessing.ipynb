{
 "cells": [
  {
   "cell_type": "code",
   "execution_count": 46,
   "metadata": {
    "collapsed": false
   },
   "outputs": [],
   "source": [
    "from __future__ import print_function\n",
    "from nltk.stem import PorterStemmer\n",
    "from nltk.corpus import stopwords\n",
    "from nltk.tokenize import word_tokenize\n",
    "import os, re, string, ntpath\n",
    "\n",
    "def path_leaf(path):\n",
    "    head, tail = ntpath.split(path)\n",
    "    return head, tail\n",
    "\n",
    "# split camel case tokens\n",
    "_underscorer1 = re.compile(r'(.)([A-Z][a-z]+)')\n",
    "_underscorer2 = re.compile('([a-z0-9])([A-Z])')\n",
    "\n",
    "\n",
    "def camel_to_spaces(s):\n",
    "    \"\"\"\n",
    "    convert camel case into spaces seperated\n",
    "    \"\"\"\n",
    "    subbed = _underscorer1.sub(r'\\1 \\2', s)\n",
    "    return _underscorer2.sub(r'\\1 \\2', subbed).lower()\n",
    "\n",
    "\n",
    "def preprocessing(input_file, output_file):\n",
    "    # replace the punctuations with space\n",
    "    replace_punctuation = string.maketrans(string.punctuation, ' '*len(string.punctuation))\n",
    "    # stemming\n",
    "    stemmer = PorterStemmer()\n",
    "\n",
    "    with open(input_file,'r') as inFile, open(output_file,'w') as outFile:\n",
    "        for line in inFile:\n",
    "            # replace punctuations and convert camel case into space seperated\n",
    "            line_witout_puncs = ' '.join([camel_to_spaces(word) for word in line.translate(replace_punctuation).split()\n",
    "                  if len(word) >=4 and word not in stopwords.words('english')])\n",
    "\n",
    "            # stemming\n",
    "            singles = []\n",
    "            for plural in line_witout_puncs.split():\n",
    "                singles.append(stemmer.stem(plural))\n",
    "            line_stemmed = ' '.join(singles)\n",
    "\n",
    "            # Remove language keywords\n",
    "\n",
    "            print(line_stemmed, file=outFile)\n",
    "\n",
    "project_path = '/home/hshahin/workspaces/spring2016_se_project/data/androidannotations'\n",
    "\n",
    "project_files = [os.path.join(root, name)\n",
    "             for root, dirs, files in os.walk(project_path)\n",
    "             for name in files\n",
    "             if name.endswith((\".java\"))]\n",
    "\n",
    "for source_file in project_files:\n",
    "    head, tail = path_leaf(source_file)\n",
    "    proc_file = os.path.join(head , tail + '.proc')\n",
    "    preprocessing(source_file, proc_file)\n"
   ]
  },
  {
   "cell_type": "code",
   "execution_count": null,
   "metadata": {
    "collapsed": true
   },
   "outputs": [],
   "source": []
  }
 ],
 "metadata": {
  "kernelspec": {
   "display_name": "Python 2",
   "language": "python",
   "name": "python2"
  },
  "language_info": {
   "codemirror_mode": {
    "name": "ipython",
    "version": 2
   },
   "file_extension": ".py",
   "mimetype": "text/x-python",
   "name": "python",
   "nbconvert_exporter": "python",
   "pygments_lexer": "ipython2",
   "version": "2.7.11"
  }
 },
 "nbformat": 4,
 "nbformat_minor": 0
}
