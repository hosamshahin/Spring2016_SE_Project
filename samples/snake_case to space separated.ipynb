{
 "cells": [
  {
   "cell_type": "code",
   "execution_count": 32,
   "metadata": {
    "collapsed": true
   },
   "outputs": [],
   "source": [
    "def camel_to_spaces(snake_cased_str):\n",
    "    separator = \"_\"\n",
    "    components = snake_cased_str.split(separator)\n",
    "    if components[0] == \"\":\n",
    "      components = components[1:]\n",
    "    if components[-1] == \"\":\n",
    "      components = components[:-1]\n",
    "    if len(components) > 1:\n",
    "      spaced_str = components[0].lower()\n",
    "      for x in components[1:]:\n",
    "        spaced_str += \" \" + x.lower()\n",
    "    else:\n",
    "      spaced_str = components[0]\n",
    "    return spaced_str"
   ]
  },
  {
   "cell_type": "code",
   "execution_count": 40,
   "metadata": {
    "collapsed": true
   },
   "outputs": [],
   "source": [
    "\n",
    "def testSnakeToCamel():\n",
    "  assert camel_to_spaces('_snakes_on_a_plane_') == 'snakes on a plane'\n",
    "  assert camel_to_spaces('snakes_on_a_plane') == 'snakes on a plane'\n",
    "  assert camel_to_spaces('Snakes_on_a_plane') == 'snakes on a plane'\n",
    "  assert camel_to_spaces('snakesOnAPlane') == 'snakesOnAPlane'\n",
    "  assert camel_to_spaces('I_phone_hysteria') == 'i phone hysteria'\n",
    "  assert camel_to_spaces('i_phone_hysteria') == 'i phone hysteria'\n",
    "  assert camel_to_spaces('i_PHONE_hysteria') == 'i phone hysteria'\n",
    "  assert camel_to_spaces('_i_phone_hysteria') == 'i phone hysteria'\n",
    "  assert camel_to_spaces('i_phone_hysteria_') == 'i phone hysteria'\n",
    "  print \"all snake_case to camelCase tests passed\""
   ]
  },
  {
   "cell_type": "code",
   "execution_count": 41,
   "metadata": {
    "collapsed": false
   },
   "outputs": [
    {
     "name": "stdout",
     "output_type": "stream",
     "text": [
      "all snake_case to camelCase tests passed\n"
     ]
    }
   ],
   "source": [
    "testSnakeToCamel()"
   ]
  },
  {
   "cell_type": "code",
   "execution_count": 37,
   "metadata": {
    "collapsed": false
   },
   "outputs": [
    {
     "data": {
      "text/plain": [
       "'snakesOnAPlane'"
      ]
     },
     "execution_count": 37,
     "metadata": {},
     "output_type": "execute_result"
    }
   ],
   "source": [
    "camel_to_spaces('snakesOnAPlane')"
   ]
  },
  {
   "cell_type": "code",
   "execution_count": null,
   "metadata": {
    "collapsed": true
   },
   "outputs": [],
   "source": []
  }
 ],
 "metadata": {
  "kernelspec": {
   "display_name": "Python 2",
   "language": "python",
   "name": "python2"
  },
  "language_info": {
   "codemirror_mode": {
    "name": "ipython",
    "version": 2
   },
   "file_extension": ".py",
   "mimetype": "text/x-python",
   "name": "python",
   "nbconvert_exporter": "python",
   "pygments_lexer": "ipython2",
   "version": "2.7.11"
  }
 },
 "nbformat": 4,
 "nbformat_minor": 0
}
