{
 "cells": [
  {
   "cell_type": "code",
   "execution_count": 3,
   "metadata": {
    "collapsed": false
   },
   "outputs": [],
   "source": [
    "import os.path\n",
    "from git import Repo\n",
    "\n",
    "join = os.path.join"
   ]
  },
  {
   "cell_type": "code",
   "execution_count": 6,
   "metadata": {
    "collapsed": false
   },
   "outputs": [],
   "source": [
    "# rorepo is a Repo instance pointing to the git-python repository.\n",
    "# For all you know, the first argument to Repo is a path to the repository\n",
    "# you want to work with\n",
    "path = \"/home/hshahin/workspaces/OpenDSA\"\n",
    "repo = Repo(path)\n",
    "assert not repo.bare"
   ]
  },
  {
   "cell_type": "code",
   "execution_count": 8,
   "metadata": {
    "collapsed": false
   },
   "outputs": [],
   "source": [
    "rw_dir = \"/home/hshahin/workspaces/GitPython\"\n",
    "bare_repo = Repo.init(join(rw_dir, 'bare-repo'), bare=True)\n",
    "assert bare_repo.bare"
   ]
  },
  {
   "cell_type": "code",
   "execution_count": 10,
   "metadata": {
    "collapsed": false
   },
   "outputs": [
    {
     "data": {
      "text/plain": [
       "<git.config.write at 0x7f8a02d46a50>"
      ]
     },
     "execution_count": 10,
     "metadata": {},
     "output_type": "execute_result"
    }
   ],
   "source": [
    "repo.config_reader()             # get a config reader for read-only access\n",
    "cw = repo.config_writer()        # get a config writer to change configuration\n",
    "cw.release()                     # call release() to be sure changes are written and locks are released"
   ]
  },
  {
   "cell_type": "code",
   "execution_count": 12,
   "metadata": {
    "collapsed": false
   },
   "outputs": [
    {
     "data": {
      "text/plain": [
       "[u'config/CS3_LMSconf_local.json',\n",
       " u'config/CS3_LMSconf_vt_test.json',\n",
       " u'config/PL_LMSconf_local.json']"
      ]
     },
     "execution_count": 12,
     "metadata": {},
     "output_type": "execute_result"
    }
   ],
   "source": [
    "assert not bare_repo.is_dirty()  # check the dirty state\n",
    "repo.untracked_files             # retrieve a list of untracked files\n",
    "# ['my_untracked_file']"
   ]
  },
  {
   "cell_type": "code",
   "execution_count": 13,
   "metadata": {
    "collapsed": true
   },
   "outputs": [],
   "source": [
    "cloned_repo = repo.clone(join(rw_dir, '/home/hshahin/workspaces/GitPython_clone'))\n",
    "assert cloned_repo.__class__ is Repo     # clone an existing repository\n",
    "assert Repo.init(join(rw_dir, 'path/for/new/repo')).__class__ is Repo"
   ]
  },
  {
   "cell_type": "code",
   "execution_count": 15,
   "metadata": {
    "collapsed": true
   },
   "outputs": [],
   "source": [
    "assert os.path.isdir(cloned_repo.working_tree_dir)                    # directory with your work files\n",
    "assert cloned_repo.git_dir.startswith(cloned_repo.working_tree_dir)   # directory containing the git repository\n",
    "assert bare_repo.working_tree_dir is None                             # bare repositories have no working tree    "
   ]
  },
  {
   "cell_type": "code",
   "execution_count": 17,
   "metadata": {
    "collapsed": false
   },
   "outputs": [],
   "source": [
    "assert repo.head.ref == repo.heads.master                   # head is a symbolic reference pointing to master"
   ]
  },
  {
   "cell_type": "code",
   "execution_count": 18,
   "metadata": {
    "collapsed": true
   },
   "outputs": [],
   "source": [
    "# assert repo.tags['0.3.5'] == repo.tag('refs/tags/0.3.5')    # you can access tags in various ways too\n",
    "assert repo.refs.master == repo.heads['master']             # .refs provides access to all refs, i.e. heads ...\n",
    "assert repo.refs['origin/master'] == repo.remotes.origin.refs.master  # ... remotes ...\n",
    "# assert repo.refs['0.3.5'] == repo.tags['0.3.5']             # ... and tags"
   ]
  },
  {
   "cell_type": "code",
   "execution_count": 22,
   "metadata": {
    "collapsed": false
   },
   "outputs": [],
   "source": [
    "new_branch = cloned_repo.create_head('feature2')               # create a new branch ...\n",
    "assert cloned_repo.active_branch != new_branch                # which wasn't checked out yet ...\n",
    "assert new_branch.commit == cloned_repo.active_branch.commit  # and which points to the checked-out commit\n",
    "\n",
    "# It's easy to let a branch point to the previous commit, without affecting anything else\n",
    "# Each reference provides access to the git object it points to, usually commits\n",
    "assert new_branch.set_commit('HEAD~1').commit == cloned_repo.active_branch.commit.parents[0]"
   ]
  },
  {
   "cell_type": "code",
   "execution_count": 23,
   "metadata": {
    "collapsed": true
   },
   "outputs": [],
   "source": [
    "past = cloned_repo.create_tag('past', ref=new_branch,\n",
    "                              message=\"This is a tag-object pointing to %s\" % new_branch.name)\n",
    "assert past.commit == new_branch.commit        # the tag points to the specified commit\n",
    "assert past.tag.message.startswith(\"This is\")  # and its object carries the message provided\n",
    "\n",
    "now = cloned_repo.create_tag('now')            # This is a tag-reference. It may not carry meta-data\n",
    "assert now.tag is None"
   ]
  },
  {
   "cell_type": "code",
   "execution_count": 24,
   "metadata": {
    "collapsed": false
   },
   "outputs": [
    {
     "ename": "AssertionError",
     "evalue": "",
     "output_type": "error",
     "traceback": [
      "\u001b[1;31m---------------------------------------------------------------------------\u001b[0m",
      "\u001b[1;31mAssertionError\u001b[0m                            Traceback (most recent call last)",
      "\u001b[1;32m<ipython-input-24-bf6d648cb93e>\u001b[0m in \u001b[0;36m<module>\u001b[1;34m()\u001b[0m\n\u001b[1;32m----> 1\u001b[1;33m \u001b[1;32massert\u001b[0m \u001b[0mnow\u001b[0m\u001b[1;33m.\u001b[0m\u001b[0mcommit\u001b[0m\u001b[1;33m.\u001b[0m\u001b[0mmessage\u001b[0m \u001b[1;33m!=\u001b[0m \u001b[0mpast\u001b[0m\u001b[1;33m.\u001b[0m\u001b[0mcommit\u001b[0m\u001b[1;33m.\u001b[0m\u001b[0mmessage\u001b[0m\u001b[1;33m\u001b[0m\u001b[0m\n\u001b[0m\u001b[0;32m      2\u001b[0m \u001b[1;31m# You can read objects directly through binary streams, no working tree required\u001b[0m\u001b[1;33m\u001b[0m\u001b[1;33m\u001b[0m\u001b[0m\n\u001b[0;32m      3\u001b[0m \u001b[1;32massert\u001b[0m \u001b[1;33m(\u001b[0m\u001b[0mnow\u001b[0m\u001b[1;33m.\u001b[0m\u001b[0mcommit\u001b[0m\u001b[1;33m.\u001b[0m\u001b[0mtree\u001b[0m \u001b[1;33m/\u001b[0m \u001b[1;34m'VERSION'\u001b[0m\u001b[1;33m)\u001b[0m\u001b[1;33m.\u001b[0m\u001b[0mdata_stream\u001b[0m\u001b[1;33m.\u001b[0m\u001b[0mread\u001b[0m\u001b[1;33m(\u001b[0m\u001b[1;33m)\u001b[0m\u001b[1;33m.\u001b[0m\u001b[0mdecode\u001b[0m\u001b[1;33m(\u001b[0m\u001b[1;34m'ascii'\u001b[0m\u001b[1;33m)\u001b[0m\u001b[1;33m.\u001b[0m\u001b[0mstartswith\u001b[0m\u001b[1;33m(\u001b[0m\u001b[1;34m'1'\u001b[0m\u001b[1;33m)\u001b[0m\u001b[1;33m\u001b[0m\u001b[0m\n\u001b[0;32m      4\u001b[0m \u001b[1;33m\u001b[0m\u001b[0m\n\u001b[0;32m      5\u001b[0m \u001b[1;31m# You can traverse trees as well to handle all contained files of a particular commit\u001b[0m\u001b[1;33m\u001b[0m\u001b[1;33m\u001b[0m\u001b[0m\n",
      "\u001b[1;31mAssertionError\u001b[0m: "
     ]
    }
   ],
   "source": [
    "assert now.commit.message != past.commit.message\n",
    "# You can read objects directly through binary streams, no working tree required\n",
    "assert (now.commit.tree / 'VERSION').data_stream.read().decode('ascii').startswith('1')\n",
    "\n",
    "# You can traverse trees as well to handle all contained files of a particular commit\n",
    "file_count = 0\n",
    "tree_count = 0\n",
    "tree = past.commit.tree\n",
    "for item in tree.traverse():\n",
    "    file_count += item.type == 'blob'\n",
    "    tree_count += item.type == 'tree'\n",
    "assert file_count and tree_count                        # we have accumulated all directories and files\n",
    "assert len(tree.blobs) + len(tree.trees) == len(tree)   # a tree is iterable itself to traverse its children"
   ]
  },
  {
   "cell_type": "code",
   "execution_count": 27,
   "metadata": {
    "collapsed": false
   },
   "outputs": [
    {
     "ename": "ValueError",
     "evalue": "I/O operation on closed file",
     "output_type": "error",
     "traceback": [
      "\u001b[1;31m---------------------------------------------------------------------------\u001b[0m",
      "\u001b[1;31mValueError\u001b[0m                                Traceback (most recent call last)",
      "\u001b[1;32m<ipython-input-27-efcf7d6121c1>\u001b[0m in \u001b[0;36m<module>\u001b[1;34m()\u001b[0m\n\u001b[0;32m      1\u001b[0m \u001b[1;32mimport\u001b[0m \u001b[0mgit\u001b[0m\u001b[1;33m\u001b[0m\u001b[0m\n\u001b[1;32m----> 2\u001b[1;33m \u001b[0mrepo\u001b[0m \u001b[1;33m=\u001b[0m \u001b[0mgit\u001b[0m\u001b[1;33m.\u001b[0m\u001b[0mRepo\u001b[0m\u001b[1;33m.\u001b[0m\u001b[0mclone_from\u001b[0m\u001b[1;33m(\u001b[0m\u001b[0mrw_dir\u001b[0m\u001b[1;33m,\u001b[0m \u001b[0mos\u001b[0m\u001b[1;33m.\u001b[0m\u001b[0mpath\u001b[0m\u001b[1;33m.\u001b[0m\u001b[0mjoin\u001b[0m\u001b[1;33m(\u001b[0m\u001b[0mrw_dir\u001b[0m\u001b[1;33m,\u001b[0m \u001b[1;34m'repo'\u001b[0m\u001b[1;33m)\u001b[0m\u001b[1;33m,\u001b[0m \u001b[0mbranch\u001b[0m\u001b[1;33m=\u001b[0m\u001b[1;34m'master'\u001b[0m\u001b[1;33m)\u001b[0m\u001b[1;33m\u001b[0m\u001b[0m\n\u001b[0m\u001b[0;32m      3\u001b[0m \u001b[1;33m\u001b[0m\u001b[0m\n\u001b[0;32m      4\u001b[0m \u001b[0mheads\u001b[0m \u001b[1;33m=\u001b[0m \u001b[0mrepo\u001b[0m\u001b[1;33m.\u001b[0m\u001b[0mheads\u001b[0m\u001b[1;33m\u001b[0m\u001b[0m\n\u001b[0;32m      5\u001b[0m \u001b[0mmaster\u001b[0m \u001b[1;33m=\u001b[0m \u001b[0mheads\u001b[0m\u001b[1;33m.\u001b[0m\u001b[0mmaster\u001b[0m       \u001b[1;31m# lists can be accessed by name for convenience\u001b[0m\u001b[1;33m\u001b[0m\u001b[0m\n",
      "\u001b[1;32m/home/hshahin/anaconda2/lib/python2.7/site-packages/git/repo/base.pyc\u001b[0m in \u001b[0;36mclone_from\u001b[1;34m(cls, url, to_path, progress, env, **kwargs)\u001b[0m\n\u001b[0;32m    883\u001b[0m         \u001b[1;32mif\u001b[0m \u001b[0menv\u001b[0m \u001b[1;32mis\u001b[0m \u001b[1;32mnot\u001b[0m \u001b[0mNone\u001b[0m\u001b[1;33m:\u001b[0m\u001b[1;33m\u001b[0m\u001b[0m\n\u001b[0;32m    884\u001b[0m             \u001b[0mgit\u001b[0m\u001b[1;33m.\u001b[0m\u001b[0mupdate_environment\u001b[0m\u001b[1;33m(\u001b[0m\u001b[1;33m**\u001b[0m\u001b[0menv\u001b[0m\u001b[1;33m)\u001b[0m\u001b[1;33m\u001b[0m\u001b[0m\n\u001b[1;32m--> 885\u001b[1;33m         \u001b[1;32mreturn\u001b[0m \u001b[0mcls\u001b[0m\u001b[1;33m.\u001b[0m\u001b[0m_clone\u001b[0m\u001b[1;33m(\u001b[0m\u001b[0mgit\u001b[0m\u001b[1;33m,\u001b[0m \u001b[0murl\u001b[0m\u001b[1;33m,\u001b[0m \u001b[0mto_path\u001b[0m\u001b[1;33m,\u001b[0m \u001b[0mGitCmdObjectDB\u001b[0m\u001b[1;33m,\u001b[0m \u001b[0mprogress\u001b[0m\u001b[1;33m,\u001b[0m \u001b[1;33m**\u001b[0m\u001b[0mkwargs\u001b[0m\u001b[1;33m)\u001b[0m\u001b[1;33m\u001b[0m\u001b[0m\n\u001b[0m\u001b[0;32m    886\u001b[0m \u001b[1;33m\u001b[0m\u001b[0m\n\u001b[0;32m    887\u001b[0m     \u001b[1;32mdef\u001b[0m \u001b[0marchive\u001b[0m\u001b[1;33m(\u001b[0m\u001b[0mself\u001b[0m\u001b[1;33m,\u001b[0m \u001b[0mostream\u001b[0m\u001b[1;33m,\u001b[0m \u001b[0mtreeish\u001b[0m\u001b[1;33m=\u001b[0m\u001b[0mNone\u001b[0m\u001b[1;33m,\u001b[0m \u001b[0mprefix\u001b[0m\u001b[1;33m=\u001b[0m\u001b[0mNone\u001b[0m\u001b[1;33m,\u001b[0m \u001b[1;33m**\u001b[0m\u001b[0mkwargs\u001b[0m\u001b[1;33m)\u001b[0m\u001b[1;33m:\u001b[0m\u001b[1;33m\u001b[0m\u001b[0m\n",
      "\u001b[1;32m/home/hshahin/anaconda2/lib/python2.7/site-packages/git/repo/base.pyc\u001b[0m in \u001b[0;36m_clone\u001b[1;34m(cls, git, url, path, odb_default_type, progress, **kwargs)\u001b[0m\n\u001b[0;32m    829\u001b[0m             \u001b[1;32melse\u001b[0m\u001b[1;33m:\u001b[0m\u001b[1;33m\u001b[0m\u001b[0m\n\u001b[0;32m    830\u001b[0m                 \u001b[0mproc\u001b[0m\u001b[1;33m.\u001b[0m\u001b[0mcommunicate\u001b[0m\u001b[1;33m(\u001b[0m\u001b[1;33m)\u001b[0m\u001b[1;33m\u001b[0m\u001b[0m\n\u001b[1;32m--> 831\u001b[1;33m                 \u001b[0mfinalize_process\u001b[0m\u001b[1;33m(\u001b[0m\u001b[0mproc\u001b[0m\u001b[1;33m)\u001b[0m\u001b[1;33m\u001b[0m\u001b[0m\n\u001b[0m\u001b[0;32m    832\u001b[0m             \u001b[1;31m# end handle progress\u001b[0m\u001b[1;33m\u001b[0m\u001b[1;33m\u001b[0m\u001b[0m\n\u001b[0;32m    833\u001b[0m         \u001b[1;32mfinally\u001b[0m\u001b[1;33m:\u001b[0m\u001b[1;33m\u001b[0m\u001b[0m\n",
      "\u001b[1;32m/home/hshahin/anaconda2/lib/python2.7/site-packages/git/util.pyc\u001b[0m in \u001b[0;36mfinalize_process\u001b[1;34m(proc)\u001b[0m\n\u001b[0;32m    153\u001b[0m \u001b[1;32mdef\u001b[0m \u001b[0mfinalize_process\u001b[0m\u001b[1;33m(\u001b[0m\u001b[0mproc\u001b[0m\u001b[1;33m)\u001b[0m\u001b[1;33m:\u001b[0m\u001b[1;33m\u001b[0m\u001b[0m\n\u001b[0;32m    154\u001b[0m     \u001b[1;34m\"\"\"Wait for the process (clone, fetch, pull or push) and handle its errors accordingly\"\"\"\u001b[0m\u001b[1;33m\u001b[0m\u001b[0m\n\u001b[1;32m--> 155\u001b[1;33m     \u001b[0mproc\u001b[0m\u001b[1;33m.\u001b[0m\u001b[0mwait\u001b[0m\u001b[1;33m(\u001b[0m\u001b[1;33m)\u001b[0m\u001b[1;33m\u001b[0m\u001b[0m\n\u001b[0m\u001b[0;32m    156\u001b[0m \u001b[1;33m\u001b[0m\u001b[0m\n\u001b[0;32m    157\u001b[0m \u001b[1;31m#} END utilities\u001b[0m\u001b[1;33m\u001b[0m\u001b[1;33m\u001b[0m\u001b[0m\n",
      "\u001b[1;32m/home/hshahin/anaconda2/lib/python2.7/site-packages/git/cmd.pyc\u001b[0m in \u001b[0;36mwait\u001b[1;34m(self)\u001b[0m\n\u001b[0;32m    317\u001b[0m             \u001b[0mstatus\u001b[0m \u001b[1;33m=\u001b[0m \u001b[0mself\u001b[0m\u001b[1;33m.\u001b[0m\u001b[0mproc\u001b[0m\u001b[1;33m.\u001b[0m\u001b[0mwait\u001b[0m\u001b[1;33m(\u001b[0m\u001b[1;33m)\u001b[0m\u001b[1;33m\u001b[0m\u001b[0m\n\u001b[0;32m    318\u001b[0m             \u001b[1;32mif\u001b[0m \u001b[0mstatus\u001b[0m \u001b[1;33m!=\u001b[0m \u001b[1;36m0\u001b[0m\u001b[1;33m:\u001b[0m\u001b[1;33m\u001b[0m\u001b[0m\n\u001b[1;32m--> 319\u001b[1;33m                 \u001b[1;32mraise\u001b[0m \u001b[0mGitCommandError\u001b[0m\u001b[1;33m(\u001b[0m\u001b[0mself\u001b[0m\u001b[1;33m.\u001b[0m\u001b[0margs\u001b[0m\u001b[1;33m,\u001b[0m \u001b[0mstatus\u001b[0m\u001b[1;33m,\u001b[0m \u001b[0mself\u001b[0m\u001b[1;33m.\u001b[0m\u001b[0mproc\u001b[0m\u001b[1;33m.\u001b[0m\u001b[0mstderr\u001b[0m\u001b[1;33m.\u001b[0m\u001b[0mread\u001b[0m\u001b[1;33m(\u001b[0m\u001b[1;33m)\u001b[0m\u001b[1;33m)\u001b[0m\u001b[1;33m\u001b[0m\u001b[0m\n\u001b[0m\u001b[0;32m    320\u001b[0m             \u001b[1;31m# END status handling\u001b[0m\u001b[1;33m\u001b[0m\u001b[1;33m\u001b[0m\u001b[0m\n\u001b[0;32m    321\u001b[0m             \u001b[1;32mreturn\u001b[0m \u001b[0mstatus\u001b[0m\u001b[1;33m\u001b[0m\u001b[0m\n",
      "\u001b[1;31mValueError\u001b[0m: I/O operation on closed file"
     ]
    }
   ],
   "source": [
    "import git\n",
    "repo = git.Repo.clone_from(rw_dir, os.path.join(rw_dir, 'repo'), branch='master')\n",
    "\n",
    "heads = repo.heads\n",
    "master = heads.master       # lists can be accessed by name for convenience\n",
    "master.commit               # the commit pointed to by head called master\n",
    "master.rename('new_name')   # rename heads\n",
    "master.rename('master')\n"
   ]
  },
  {
   "cell_type": "code",
   "execution_count": 28,
   "metadata": {
    "collapsed": false
   },
   "outputs": [
    {
     "data": {
      "text/plain": [
       "<git.Commit \"3f4d346b41d761247a53565b5b61ef546a622dc3\">"
      ]
     },
     "execution_count": 28,
     "metadata": {},
     "output_type": "execute_result"
    }
   ],
   "source": [
    "head = repo.head            # the head points to the active branch/ref\n",
    "master = head.reference     # retrieve the reference the head points to\n",
    "master.commit               # from here you use it as any other reference"
   ]
  },
  {
   "cell_type": "code",
   "execution_count": 29,
   "metadata": {
    "collapsed": false
   },
   "outputs": [
    {
     "data": {
      "text/plain": [
       "dab7cad4a0dfd0129744f7a2744d3de722491b1a 3f4d346b41d761247a53565b5b61ef546a622dc3 Hosam Shahin <hosamlshahin@gmail.com> 1460395145 -0400\trebase finished: refs/heads/master onto 3f4d346b41d761247a53565b5b61ef546a622dc3\n"
      ]
     },
     "execution_count": 29,
     "metadata": {},
     "output_type": "execute_result"
    }
   ],
   "source": [
    "log = master.log()\n",
    "log[0]                      # first (i.e. oldest) reflog entry\n",
    "log[-1]                     # last (i.e. most recent) reflog entry"
   ]
  },
  {
   "cell_type": "code",
   "execution_count": 30,
   "metadata": {
    "collapsed": false
   },
   "outputs": [
    {
     "data": {
      "text/plain": [
       "0000000000000000000000000000000000000000 abad67adbbfc01d84ef5b780a3cc758f9ef52911 Hosam Shahin <hosamlshahin@gmail.com> 1454537040 -0500\tbranch: Created from refs/remotes/origin/master\n"
      ]
     },
     "execution_count": 30,
     "metadata": {},
     "output_type": "execute_result"
    }
   ],
   "source": [
    "log[0]"
   ]
  },
  {
   "cell_type": "code",
   "execution_count": 31,
   "metadata": {
    "collapsed": false
   },
   "outputs": [
    {
     "data": {
      "text/plain": [
       "dab7cad4a0dfd0129744f7a2744d3de722491b1a 3f4d346b41d761247a53565b5b61ef546a622dc3 Hosam Shahin <hosamlshahin@gmail.com> 1460395145 -0400\trebase finished: refs/heads/master onto 3f4d346b41d761247a53565b5b61ef546a622dc3\n"
      ]
     },
     "execution_count": 31,
     "metadata": {},
     "output_type": "execute_result"
    }
   ],
   "source": [
    "log[-1]"
   ]
  },
  {
   "cell_type": "code",
   "execution_count": null,
   "metadata": {
    "collapsed": false
   },
   "outputs": [],
   "source": []
  },
  {
   "cell_type": "code",
   "execution_count": 39,
   "metadata": {
    "collapsed": false
   },
   "outputs": [],
   "source": [
    "fifty_first_commits = list(repo.iter_commits('master'))\n",
    "# assert len(fifty_first_commits) == 50\n",
    "# this will return commits 21-30 from the commit list as traversed backwards master\n",
    "ten_commits_past_twenty = list(repo.iter_commits('master', max_count=10, skip=20))\n",
    "assert len(ten_commits_past_twenty) == 10\n",
    "assert fifty_first_commits[20:30] == ten_commits_past_twenty"
   ]
  },
  {
   "cell_type": "code",
   "execution_count": 45,
   "metadata": {
    "collapsed": false
   },
   "outputs": [
    {
     "name": "stdout",
     "output_type": "stream",
     "text": [
      "6422\n"
     ]
    }
   ],
   "source": [
    "print len(fifty_first_commits)\n",
    "# for i in fifty_first_commits:\n",
    "#     print i.message\n",
    "# # print fifty_first_commits"
   ]
  },
  {
   "cell_type": "code",
   "execution_count": 4,
   "metadata": {
    "collapsed": false
   },
   "outputs": [],
   "source": [
    "from datetime import datetime\n",
    "import time\n",
    "import os.path\n",
    "from git import Repo, Git\n",
    "\n",
    "def get_epoch(year, month='01'):\n",
    "    \"\"\"\n",
    "    calculate the epoch of first day of a year-month\n",
    "    \"\"\"\n",
    "    pattern = '%Y.%m.%d %H:%M:%S'\n",
    "    return int(time.mktime(time.strptime(str(year) + '.' + str(month) + '.01 00:00:00', pattern)))\n",
    "\n",
    "\n",
    "def create_tags(path):\n",
    "    '''\n",
    "    takes repo path and creates tags for first commit in Jan and Jun. for every year\n",
    "    # get the list of commits\n",
    "    # get the latest commit date\n",
    "    # current_year is the year from that date\n",
    "    # loop through the list of commit to find the commit having a date equal or just after 1/1/current_year\n",
    "    # once found create a tage with the current_year name on it AND\n",
    "    # subtract 1 from the year and continue.\n",
    "\n",
    "    '''\n",
    "\n",
    "    repo = Repo(path)\n",
    "\n",
    "    # get the list of commits\n",
    "    commits = list(repo.iter_commits())\n",
    "\n",
    "    # get the latest commit date, current_year is the year from that date\n",
    "    current_year = datetime.fromtimestamp(commits[0].committed_date).year\n",
    "\n",
    "\n",
    "    for idx, commit in enumerate(commits):\n",
    "        current_year_01 = str(current_year)+'-01'\n",
    "        current_year_06 = str(current_year)+'-06'\n",
    "\n",
    "        if get_epoch(current_year, '01') > commit.committed_date and \\\n",
    "            int(time.time()) > get_epoch(current_year, '01')  and \\\n",
    "            idx !=0:\n",
    "            if str(current_year_01) not in repo.tags and idx != 0:\n",
    "                # print commits[idx-1].hexsha+' '+current_year_01\n",
    "                past = repo.create_tag(current_year_01, ref=commits[idx-1],\n",
    "                                  message=\"This is a tag to mark the first commit in year %s\" % current_year_01)\n",
    "            current_year = datetime.fromtimestamp(commit.committed_date).year\n",
    "\n",
    "        if get_epoch(current_year, '06') > commit.committed_date and \\\n",
    "            int(time.time()) > get_epoch(current_year, '06') and \\\n",
    "            idx != 0:\n",
    "            if str(current_year_06) not in repo.tags:\n",
    "                # print commits[idx-1].hexsha+\" \"+current_year_06\n",
    "                past = repo.create_tag(current_year_06, ref=commits[idx-1],\n",
    "                                  message=\"This is a tag to mark the first commit in year %s\" % current_year_06)\n",
    "                \n",
    "\n",
    "                \n",
    "                \n",
    "def checkout_tag(repo, git, tag_name):\n",
    "    '''\n",
    "    checks out a tag if it exists\n",
    "    '''\n",
    "    if tag_name in repo.tags:\n",
    "        git.checkout(tag_name)\n",
    "        \n",
    "def delete_tags(path):\n",
    "\n",
    "    repo = Repo(path)\n",
    "\n",
    "    for tag in repo.tags:\n",
    "        repo.delete_tag(tag)\n",
    "                \n",
    "            \n",
    "path = '/home/hshahin/workspaces/OpenDSA'\n",
    "create_tags(path)"
   ]
  },
  {
   "cell_type": "code",
   "execution_count": 60,
   "metadata": {
    "collapsed": false
   },
   "outputs": [],
   "source": [
    "# checkout tag\n",
    "g = Git(path)\n",
    "checkout_tag(repo, g, '2013-01')"
   ]
  },
  {
   "cell_type": "code",
   "execution_count": 64,
   "metadata": {
    "collapsed": false
   },
   "outputs": [
    {
     "ename": "AttributeError",
     "evalue": "'Commit' object has no attribute 'tag'",
     "output_type": "error",
     "traceback": [
      "\u001b[1;31m---------------------------------------------------------------------------\u001b[0m",
      "\u001b[1;31mAttributeError\u001b[0m                            Traceback (most recent call last)",
      "\u001b[1;32m<ipython-input-64-deccf8f0a53a>\u001b[0m in \u001b[0;36m<module>\u001b[1;34m()\u001b[0m\n\u001b[0;32m      1\u001b[0m \u001b[1;31m# the current checked out commit\u001b[0m\u001b[1;33m\u001b[0m\u001b[1;33m\u001b[0m\u001b[0m\n\u001b[1;32m----> 2\u001b[1;33m \u001b[0mrepo\u001b[0m\u001b[1;33m.\u001b[0m\u001b[0mhead\u001b[0m\u001b[1;33m.\u001b[0m\u001b[0mcommit\u001b[0m\u001b[1;33m.\u001b[0m\u001b[0mtag\u001b[0m\u001b[1;33m\u001b[0m\u001b[0m\n\u001b[0m",
      "\u001b[1;32m/home/hshahin/anaconda2/lib/python2.7/site-packages/gitdb/util.pyc\u001b[0m in \u001b[0;36m__getattr__\u001b[1;34m(self, attr)\u001b[0m\n\u001b[0;32m    237\u001b[0m         \u001b[0mself\u001b[0m\u001b[1;33m.\u001b[0m\u001b[0m_set_cache_\u001b[0m\u001b[1;33m(\u001b[0m\u001b[0mattr\u001b[0m\u001b[1;33m)\u001b[0m\u001b[1;33m\u001b[0m\u001b[0m\n\u001b[0;32m    238\u001b[0m         \u001b[1;31m# will raise in case the cache was not created\u001b[0m\u001b[1;33m\u001b[0m\u001b[1;33m\u001b[0m\u001b[0m\n\u001b[1;32m--> 239\u001b[1;33m         \u001b[1;32mreturn\u001b[0m \u001b[0mobject\u001b[0m\u001b[1;33m.\u001b[0m\u001b[0m__getattribute__\u001b[0m\u001b[1;33m(\u001b[0m\u001b[0mself\u001b[0m\u001b[1;33m,\u001b[0m \u001b[0mattr\u001b[0m\u001b[1;33m)\u001b[0m\u001b[1;33m\u001b[0m\u001b[0m\n\u001b[0m\u001b[0;32m    240\u001b[0m \u001b[1;33m\u001b[0m\u001b[0m\n\u001b[0;32m    241\u001b[0m     \u001b[1;32mdef\u001b[0m \u001b[0m_set_cache_\u001b[0m\u001b[1;33m(\u001b[0m\u001b[0mself\u001b[0m\u001b[1;33m,\u001b[0m \u001b[0mattr\u001b[0m\u001b[1;33m)\u001b[0m\u001b[1;33m:\u001b[0m\u001b[1;33m\u001b[0m\u001b[0m\n",
      "\u001b[1;31mAttributeError\u001b[0m: 'Commit' object has no attribute 'tag'"
     ]
    }
   ],
   "source": [
    "# the current checked out commit\n",
    "# repo.head.commit"
   ]
  },
  {
   "cell_type": "code",
   "execution_count": 5,
   "metadata": {
    "collapsed": false
   },
   "outputs": [],
   "source": [
    "delete_tags(path)"
   ]
  },
  {
   "cell_type": "code",
   "execution_count": 15,
   "metadata": {
    "collapsed": false
   },
   "outputs": [
    {
     "data": {
      "text/plain": [
       "u'* (detached from 2013)\\n  NewKA-2\\n  master\\n  master-2'"
      ]
     },
     "execution_count": 15,
     "metadata": {},
     "output_type": "execute_result"
    }
   ],
   "source": [
    "g.branch()"
   ]
  },
  {
   "cell_type": "code",
   "execution_count": 35,
   "metadata": {
    "collapsed": false
   },
   "outputs": [
    {
     "data": {
      "text/plain": [
       "1461266846"
      ]
     },
     "execution_count": 35,
     "metadata": {},
     "output_type": "execute_result"
    }
   ],
   "source": [
    "int(time.time())"
   ]
  },
  {
   "cell_type": "code",
   "execution_count": 31,
   "metadata": {
    "collapsed": false
   },
   "outputs": [
    {
     "data": {
      "text/plain": [
       "datetime.time(15, 27, 18, 93190)"
      ]
     },
     "execution_count": 31,
     "metadata": {},
     "output_type": "execute_result"
    }
   ],
   "source": [
    "datetime.time(datetime.now())"
   ]
  },
  {
   "cell_type": "code",
   "execution_count": null,
   "metadata": {
    "collapsed": true
   },
   "outputs": [],
   "source": []
  }
 ],
 "metadata": {
  "kernelspec": {
   "display_name": "Python 2",
   "language": "python",
   "name": "python2"
  },
  "language_info": {
   "codemirror_mode": {
    "name": "ipython",
    "version": 2
   },
   "file_extension": ".py",
   "mimetype": "text/x-python",
   "name": "python",
   "nbconvert_exporter": "python",
   "pygments_lexer": "ipython2",
   "version": "2.7.11"
  }
 },
 "nbformat": 4,
 "nbformat_minor": 0
}
