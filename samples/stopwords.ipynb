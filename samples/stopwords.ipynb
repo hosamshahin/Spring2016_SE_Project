{
 "cells": [
  {
   "cell_type": "code",
   "execution_count": 38,
   "metadata": {
    "collapsed": false
   },
   "outputs": [],
   "source": [
    "import string\n",
    "\n",
    "s = \"string. With. Punctuation?\" # Sample string \n",
    "exclude = set(string.punctuation)\n",
    "# print s = ''.join(ch for ch in s if ch not in exclude)\n",
    "out = s.translate(string.maketrans(\"\",\"\"), string.punctuation)"
   ]
  }
 ],
 "metadata": {
  "kernelspec": {
   "display_name": "Python 2",
   "language": "python",
   "name": "python2"
  },
  "language_info": {
   "codemirror_mode": {
    "name": "ipython",
    "version": 2
   },
   "file_extension": ".py",
   "mimetype": "text/x-python",
   "name": "python",
   "nbconvert_exporter": "python",
   "pygments_lexer": "ipython2",
   "version": "2.7.11"
  }
 },
 "nbformat": 4,
 "nbformat_minor": 0
}
